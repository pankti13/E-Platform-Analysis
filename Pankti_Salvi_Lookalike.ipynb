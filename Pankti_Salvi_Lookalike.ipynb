{
  "nbformat": 4,
  "nbformat_minor": 0,
  "metadata": {
    "colab": {
      "provenance": []
    },
    "kernelspec": {
      "name": "python3",
      "display_name": "Python 3"
    },
    "language_info": {
      "name": "python"
    }
  },
  "cells": [
    {
      "cell_type": "markdown",
      "source": [
        "## Building a Lookalike Model"
      ],
      "metadata": {
        "id": "UYMn5dauQCQg"
      }
    },
    {
      "cell_type": "code",
      "execution_count": 50,
      "metadata": {
        "id": "GNAbWYeYP-_V"
      },
      "outputs": [],
      "source": [
        "# Import packages\n",
        "import pandas as pd\n",
        "import numpy as np\n",
        "from collections import defaultdict"
      ]
    },
    {
      "cell_type": "markdown",
      "source": [
        "For calculating the similarity of two customers, I first pre-processed:\n",
        "* Average of TotalValue spent by customer using Transactions table\n",
        "* Count product Category count for each customer using the ProductID in Transactions table\n",
        "* Classify customers as Old or New based on whether they Signup to platform before '2024-01-01' using Customers table"
      ],
      "metadata": {
        "id": "iD9zGH2DdMXE"
      }
    },
    {
      "cell_type": "code",
      "source": [
        "customers = pd.read_csv('Customers.csv')\n",
        "transactions = pd.read_csv('Transactions.csv')\n",
        "products = pd.read_csv('Products.csv')\n",
        "\n",
        "# Calculate average TotalValue per customer\n",
        "customer_transactions = transactions.groupby('CustomerID').agg({'TotalValue': 'sum', 'ProductID': 'count'}).reset_index()\n",
        "customer_transactions = customer_transactions.rename(columns={'ProductID': 'NumPurchases'})\n",
        "\n",
        "transactions = transactions.merge(products[['ProductID', 'Category']], on='ProductID', how='left')\n",
        "category_per_customer = transactions.groupby('CustomerID')['Category'].apply(lambda x: set(x)).reset_index()\n",
        "category_per_customer = category_per_customer.rename(columns={'Category': 'Categories'})\n",
        "customers_data = customers.merge(customer_transactions, on='CustomerID', how='left')\n",
        "customers_data = customers_data.merge(category_per_customer, on='CustomerID', how='left')\n",
        "\n",
        "# Classify customers as Old and New\n",
        "customers_data['SignupDate'] = pd.to_datetime(customers_data['SignupDate'])\n",
        "customers_data['CustomerType'] = customers_data['SignupDate'].apply(lambda x: 'Old' if x < pd.Timestamp('2024-01-01') else 'New')\n",
        "\n",
        "# Calculate Category count per customer\n",
        "category_counts_per_customer = transactions.groupby(['CustomerID', 'Category'])['ProductID'].count().reset_index()\n",
        "category_counts_per_customer = category_counts_per_customer.rename(columns={'ProductID': 'CategoryCounts'})\n",
        "category_per_customer = category_counts_per_customer.groupby('CustomerID').agg(\n",
        "    {'Category': lambda x: list(x), 'CategoryCounts': lambda x: list(x)}).reset_index()\n",
        "customers_data = customers_data.merge(category_per_customer, on='CustomerID', how='left')\n"
      ],
      "metadata": {
        "id": "-Txy9Dr8Soah"
      },
      "execution_count": 53,
      "outputs": []
    },
    {
      "cell_type": "markdown",
      "source": [
        "For calculating similarity score out of 5, both personal and product info is used:\n",
        "* Region:  \n",
        "    * Increment total score by 1 if both customers belong to same region\n",
        "* Signup Date:\n",
        "    * Increment total score by 1 if both customers are classified as same (if both are Old or both are New)\n",
        "* Average TotalValue spent:\n",
        "    * For calculating similarity score purposes, the difference between the TotalValue is considered and finally increment ranges from [0,1].\n",
        "* Top 2 Product Categories for the customer:\n",
        "    * Increment total score by 2, if both the top categories match.\n",
        "    * Increment total score by 1, if any one of the top categories match."
      ],
      "metadata": {
        "id": "1oh85DkTeXH2"
      }
    },
    {
      "cell_type": "code",
      "source": [
        "def get_top_categories(categories, category_counts, top_n=2):\n",
        "    category_count_dict = dict(zip(categories, category_counts))\n",
        "    sorted_categories = sorted(category_count_dict.items(), key=lambda x: x[1], reverse=True)\n",
        "    top_categories = [item[0] for item in sorted_categories[:top_n]]\n",
        "    return top_categories\n",
        "\n",
        "# Calculate similarity score out of 5\n",
        "def calculate_similarity(customer1, customer2):\n",
        "    score = 0\n",
        "    # Use customer information\n",
        "    score += 1 if customer1['Region'] == customer2['Region'] else 0\n",
        "    score += 1 if customer1['CustomerType'] == customer2['CustomerType'] else 0\n",
        "    # Use product information\n",
        "    avg_spend_diff = abs(customer1['TotalValue'] - customer2['TotalValue'])\n",
        "    score += max(0, 1 - (avg_spend_diff / max(customer1['TotalValue'], customer2['TotalValue'])))\n",
        "\n",
        "    if pd.isnull(customer1['Categories']) or pd.isnull(customer2['Categories']):\n",
        "        category_similarity = 0\n",
        "    else:\n",
        "        # Get the top 2 categories for both customers\n",
        "        customer1_top_categories = get_top_categories(customer1['Categories'], customer1['CategoryCounts'], top_n=2)\n",
        "        customer2_top_categories = get_top_categories(customer2['Categories'], customer2['CategoryCounts'], top_n=2)\n",
        "        matching_categories = len(set(customer1_top_categories).intersection(set(customer2_top_categories)))\n",
        "        score += matching_categories\n",
        "\n",
        "    return score"
      ],
      "metadata": {
        "id": "a8x_IIxuS-H_"
      },
      "execution_count": 54,
      "outputs": []
    },
    {
      "cell_type": "markdown",
      "source": [
        "* Using nested loop where the outer loop runs for first 20 customers and the inner loop runs through all the 1000 transactions, we store similarity scores corresponding to each customer and then sort it to find the top 3 similar customers.\n",
        "* Store all the elements of the map to one dataframe and corresponding csv format."
      ],
      "metadata": {
        "id": "0zM5HFRXgQYn"
      }
    },
    {
      "cell_type": "code",
      "source": [
        "lookalike_dict = defaultdict(list)\n",
        "for i, customer in customers_data.head(20).iterrows():\n",
        "    customer_id = customer['CustomerID']\n",
        "    similarities = []\n",
        "    for j, other_customer in customers_data.iterrows():\n",
        "        if customer_id != other_customer['CustomerID']:\n",
        "            similarity_score = calculate_similarity(customer, other_customer)\n",
        "            similarities.append((other_customer['CustomerID'], similarity_score))\n",
        "    # Sort by similarity score and get top 3\n",
        "    similarities.sort(key=lambda x: x[1], reverse=True)\n",
        "    top_3 = similarities[:3]\n",
        "    lookalike_dict[customer_id] = top_3\n",
        "\n",
        "# Save to csv\n",
        "lookalike_list = []\n",
        "\n",
        "for cust_id, recommendations in lookalike_dict.items():\n",
        "    for rec in recommendations:\n",
        "        lookalike_list.append([cust_id, rec[0], rec[1]])\n",
        "\n",
        "lookalike_df = pd.DataFrame(lookalike_list, columns=['CustomerID', 'LookalikeCustomerID', 'SimilarityScore'])\n",
        "lookalike_df.to_csv('Pankti_Salvi_Lookalike.csv', index=False)\n",
        "print(\"Lookalike model saved to csv\")"
      ],
      "metadata": {
        "colab": {
          "base_uri": "https://localhost:8080/"
        },
        "id": "su4J3jXxT1pQ",
        "outputId": "3d648d13-1bec-4686-b397-d9027f34287b"
      },
      "execution_count": 56,
      "outputs": [
        {
          "output_type": "stream",
          "name": "stdout",
          "text": [
            "Lookalike model saved to csv\n"
          ]
        }
      ]
    }
  ]
}